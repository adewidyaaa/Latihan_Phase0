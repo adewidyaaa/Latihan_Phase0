{
  "nbformat": 4,
  "nbformat_minor": 0,
  "metadata": {
    "colab": {
      "provenance": [],
      "include_colab_link": true
    },
    "kernelspec": {
      "name": "python3",
      "display_name": "Python 3"
    },
    "language_info": {
      "name": "python"
    }
  },
  "cells": [
    {
      "cell_type": "markdown",
      "metadata": {
        "id": "view-in-github",
        "colab_type": "text"
      },
      "source": [
        "<a href=\"https://colab.research.google.com/github/adewidyaaa/Latihan_Phase0/blob/main/Latihan_%2B_Kisi_Kisi_LC1_P0.ipynb\" target=\"_parent\"><img src=\"https://colab.research.google.com/assets/colab-badge.svg\" alt=\"Open In Colab\"/></a>"
      ]
    },
    {
      "cell_type": "markdown",
      "source": [
        "#### 1. Buatlah fungsi untuk menghitung `jumlah kalori terbakar` berdasarkan `jenis kegiatan` dan `durasi dalam menit`, dengan ketentuan di bawah:\n",
        "\n",
        "<div align=\"center\">\n",
        "\n",
        "|Kegiatan|Kalori Terbakar per Menit|\n",
        "|--|--|\n",
        "|Berlari|10|\n",
        "|Bersepeda|8|\n",
        "|Berenang|12|\n",
        "\n",
        "\n",
        "</div>\n",
        "\n",
        "contoh:\n",
        "```\n",
        ">>> input: calories_burned(duration=60, exercise='berenang')\n",
        ">>> output: 720\n",
        "\n",
        ">>> input: calories_burned(duration=15, exercise='berlari')\n",
        ">>> output: 150\n",
        "\n",
        ">>> input:calories_burned(duration=20, exercise='bersepeda')\n",
        ">>> output: 160\n",
        "```"
      ],
      "metadata": {
        "id": "lCHIkZZHY7w9"
      }
    },
    {
      "cell_type": "code",
      "source": [
        "def calories_burned(duration,exercise):\n",
        "  kalori = {\n",
        "      \"berlari\" : 10,\n",
        "      \"bersepeda\" : 8,\n",
        "      \"berenang\" : 12\n",
        "  }\n",
        "\n",
        "  total_kalori = duration * kalori[exercise]\n",
        "  return total_kalori\n",
        "\n",
        "print(calories_burned(duration=60, exercise=\"berenang\"))\n",
        "print(calories_burned(duration=15, exercise=\"berlari\"))\n",
        "print(calories_burned(duration=20, exercise=\"bersepeda\"))"
      ],
      "metadata": {
        "id": "QGF23TpjAJkz",
        "colab": {
          "base_uri": "https://localhost:8080/"
        },
        "outputId": "e3a69364-3a25-4c02-d87c-49ec89eabfa0"
      },
      "execution_count": null,
      "outputs": [
        {
          "output_type": "stream",
          "name": "stdout",
          "text": [
            "720\n",
            "150\n",
            "160\n"
          ]
        }
      ]
    },
    {
      "cell_type": "markdown",
      "source": [
        "#### 2. Buat function untuk menghitung `total kalori terbakar` dari `beberapa sesi latihan`, manfaatkan fungsi yang telah dibuat sebelumnya di dalam function ini.\n",
        "\n",
        "Notes:\n",
        "- Dalam kasus ini diasumsikan setiap sesi latihan memiliki durasi yang sama (`each_session_duration`).\n",
        "- Function yang dibuat memiliki input argumen berupa: `n-length jenis latihan yang dilakukan di setiap sesinya` dan `each_session_duration`\n",
        "- Manfaatkan `*args` variable-length input untuk memasukkan jenis latihan.\n",
        "- Manfaatkan function yang telah dibuat sebelumnya untuk mengitung kalori terbakar di setiap sesi\n",
        "\n",
        "Contoh:\n",
        "```\n",
        ">>> input: total_session_burned_cal('berenang', 'bersepeda', each_session_duration=10)\n",
        ">>> output: 200\n",
        "\n",
        "penjelasan:\n",
        "kegiatan berenang dilakukan 10 menit dan kegiatan bersepeda dilakukan 10 menit dapat membakar total 200 kalori\n",
        "\n",
        ">>> input: total_session_burned_cal('berenang', 'berlari', 'bersepeda', each_session_duration=5)\n",
        ">>> output: 150\n",
        "\n",
        "penjelasan:\n",
        "kegiatan berenang, berlari dan bersepeda yang masing-masing dilakukan 5 menit dapat membakar 150 kalori.\n",
        "```"
      ],
      "metadata": {
        "id": "uVYOZdpMaRC6"
      }
    },
    {
      "cell_type": "code",
      "source": [
        "def calories_burned(duration,exercise):\n",
        "  kalori = {\n",
        "      \"berlari\" : 10,\n",
        "      \"bersepeda\" : 8,\n",
        "      \"berenang\" : 12\n",
        "  }\n",
        "\n",
        "  total_kalori = duration * kalori[exercise]\n",
        "  return total_kalori\n",
        "\n",
        "print(calories_burned(duration=60, exercise=\"berenang\"))\n",
        "print(calories_burned(duration=15, exercise=\"berlari\"))\n",
        "print(calories_burned(duration=20, exercise=\"bersepeda\"))\n",
        "\n",
        "def total_session_burned(*exercises,each_session_duration):\n",
        "\n",
        "  total = 0\n",
        "  for exercise in exercises:\n",
        "    total += calories_burned(each_session_duration, exercise)\n",
        "  return total\n",
        "\n",
        "print(total_session_burned(\"berenang\",\"bersepeda\", each_session_duration=10))\n",
        "print(total_session_burned(\"berenang\", \"berlari\", \"bersepeda\",each_session_duration =5, ))\n",
        "\n",
        "\n"
      ],
      "metadata": {
        "id": "QOPBg8JOAP0Y",
        "colab": {
          "base_uri": "https://localhost:8080/"
        },
        "outputId": "36adfc0f-63ee-4a93-e060-578b5b8a2f0a"
      },
      "execution_count": 6,
      "outputs": [
        {
          "output_type": "stream",
          "name": "stdout",
          "text": [
            "720\n",
            "150\n",
            "160\n",
            "200\n",
            "150\n"
          ]
        }
      ]
    },
    {
      "cell_type": "markdown",
      "source": [
        "Latihan 1 – Kalori Makanan\n",
        "\n",
        "Buat fungsi calories_intake(food, portion) yang menghitung total kalori dari makanan.\n",
        "Gunakan dictionary:\n",
        "\n",
        "makanan = {\n",
        "    \"nasi\": 200,\n",
        "    \"ayam\": 250,\n",
        "    \"sayur\": 50,\n",
        "    \"telur\": 150\n",
        "}\n",
        "\n",
        "\n",
        "Kalori dihitung: kalori_makanan * portion\n",
        "\n",
        "👉 Contoh:\n",
        "\n",
        "print(calories_intake(\"ayam\", 2))   # 500\n",
        "print(calories_intake(\"nasi\", 1))   # 200"
      ],
      "metadata": {
        "id": "X7Wpm1YzpqWf"
      }
    },
    {
      "cell_type": "code",
      "source": [
        "def calories_intake(food,portion):\n",
        "  makanan = {\n",
        "      \"nasi\" : 200,\n",
        "      \"ayam\" : 250,\n",
        "      \"sayur\" : 50,\n",
        "      \"telur\" : 150\n",
        "  }\n",
        "\n",
        "  hitung_kalori = makanan[food] * portion\n",
        "  return hitung_kalori\n",
        "\n",
        "print(calories_intake(\"ayam\",portion=2))\n",
        "print(calories_intake(\"nasi\",portion=1))"
      ],
      "metadata": {
        "colab": {
          "base_uri": "https://localhost:8080/"
        },
        "id": "w4Ctnp_1puMA",
        "outputId": "441bc823-3231-4ccb-8109-9f19adb90bf3"
      },
      "execution_count": 14,
      "outputs": [
        {
          "output_type": "stream",
          "name": "stdout",
          "text": [
            "500\n",
            "200\n"
          ]
        }
      ]
    },
    {
      "cell_type": "markdown",
      "source": [
        "Latihan 2 – Total Kalori Harian\n",
        "\n",
        "Buat fungsi total_calories(*foods, each_portion) yang menjumlahkan kalori dari banyak makanan.\n",
        "Fungsinya harus memanggil calories_intake dari Latihan 1.\n",
        "\n",
        "👉 Contoh:\n",
        "\n",
        "print(total_calories(\"nasi\",\"ayam\",\"sayur\", each_portion=1))  \n",
        "hasilnya 500 (200+250+50)"
      ],
      "metadata": {
        "id": "-meQHaRBrKHL"
      }
    },
    {
      "cell_type": "code",
      "source": [
        "def calories_intake(food,portion):\n",
        "  makanan = {\n",
        "      \"nasi\" : 200,\n",
        "      \"ayam\" : 250,\n",
        "      \"sayur\" : 50,\n",
        "      \"telur\" : 150\n",
        "  }\n",
        "\n",
        "  hitung_kalori = makanan[food] * portion\n",
        "  return hitung_kalori\n",
        "\n",
        "def total_calories(*foods, each_portion):\n",
        "    total = 0\n",
        "    for food in foods:\n",
        "      total += calories_intake(food, each_portion)\n",
        "    return total\n",
        "\n",
        "print(total_calories(\"nasi\",\"ayam\",\"sayur\", each_portion=1))\n"
      ],
      "metadata": {
        "colab": {
          "base_uri": "https://localhost:8080/"
        },
        "id": "zahsM2vlrQ-3",
        "outputId": "2f245c2f-76f6-4f06-bd28-b5b113b47991"
      },
      "execution_count": 24,
      "outputs": [
        {
          "output_type": "stream",
          "name": "stdout",
          "text": [
            "500\n"
          ]
        }
      ]
    },
    {
      "cell_type": "markdown",
      "source": [
        "Latihan 3 – Catatan Belanja\n",
        "\n",
        "Buat program kecil dengan fungsi:\n",
        "\n",
        "input_barang() → user input nama + harga, simpan ke list data\n",
        "\n",
        "tampil_barang() → tampilkan semua data dengan nomor urut\n",
        "\n",
        "Gunakan while True untuk menampilkan menu:\n",
        "\n",
        "1. Input Barang\n",
        "2. Tampilkan Barang\n",
        "3. Keluar"
      ],
      "metadata": {
        "id": "fQBh1ekHtPur"
      }
    },
    {
      "cell_type": "code",
      "source": [
        "barang = []\n",
        "\n",
        "def input_barang():\n",
        "  nama = input(\"Masukkan nama barang : \")\n",
        "  harga = input(\"Masukkan harga barang :\")\n",
        "  barang.append([nama,harga])\n",
        "  print(f\"{nama} berhasil ditambahkan\")\n",
        "\n",
        "def tampil_barang():\n",
        "  total = 0\n",
        "  for data in barang:\n",
        "    nama, harga = data\n",
        "    total +=1\n",
        "    print(f\"{total}. {nama} {harga}\")\n",
        "  return total\n",
        "\n",
        "while True:\n",
        "  print(\"1.input barang\")\n",
        "  print(\"2. tampilkan barang\")\n",
        "  print(\"3. keluar\")\n",
        "  user = input()\n",
        "  if user ==\"1\":\n",
        "    input_barang()\n",
        "  elif user ==\"2\":\n",
        "    tampil_barang()\n",
        "  else:\n",
        "    user==\"3\"\n",
        "    break\n",
        "\n"
      ],
      "metadata": {
        "colab": {
          "base_uri": "https://localhost:8080/"
        },
        "id": "krLBBB1DtR_3",
        "outputId": "708daa0e-905a-4b49-ed84-2b3bcf679363"
      },
      "execution_count": 32,
      "outputs": [
        {
          "name": "stdout",
          "output_type": "stream",
          "text": [
            "1.input barang\n",
            "2. tampilkan barang\n",
            "3. keluar\n",
            "1\n",
            "Masukkan nama barang : ayam\n",
            "Masukkan harga barang :5000\n",
            "ayam berhasil ditambahkan\n",
            "1.input barang\n",
            "2. tampilkan barang\n",
            "3. keluar\n",
            "2\n",
            "1. ayam 5000\n",
            "1.input barang\n",
            "2. tampilkan barang\n",
            "3. keluar\n",
            "3\n"
          ]
        }
      ]
    },
    {
      "cell_type": "markdown",
      "source": [
        "Latihan 4 – Diskon Belanja\n",
        "\n",
        "Buat fungsi hitung_total(harga, diskon=0)\n",
        "\n",
        "Kalau ada diskon → total = harga - (harga * diskon/100)\n",
        "\n",
        "Kalau tidak ada diskon → total = harga\n",
        "\n",
        "👉 Contoh:\n",
        "\n",
        "print(hitung_total(100000, 10))   # 90000\n",
        "print(hitung_total(50000))        # 50000"
      ],
      "metadata": {
        "id": "cX7tOgkkxmke"
      }
    },
    {
      "cell_type": "code",
      "source": [
        "def hitung_total(harga,diskon=0):\n",
        "  total = harga - (harga * diskon/100)\n",
        "  return total\n",
        "\n",
        "print(hitung_total(100000,10))\n",
        "print(hitung_total(50000))\n",
        ""
      ],
      "metadata": {
        "colab": {
          "base_uri": "https://localhost:8080/"
        },
        "id": "X-ZaEyb4xn9C",
        "outputId": "45713217-e203-40de-8c59-bad1330997a4"
      },
      "execution_count": 33,
      "outputs": [
        {
          "output_type": "stream",
          "name": "stdout",
          "text": [
            "90000.0\n",
            "50000.0\n"
          ]
        }
      ]
    },
    {
      "cell_type": "markdown",
      "source": [
        "Latihan 5 – Kalori Latihan\n",
        "\n",
        "Buat fungsi calories_burned(duration, exercise)\n",
        "\n",
        "Exercise\tKalori per menit\n",
        "lari\t10\n",
        "sepeda\t8\n",
        "renang\t12\n",
        "\n",
        "Input: duration (menit), exercise (string)\n",
        "\n",
        "Output: total kalori terbakar\n",
        "\n",
        "Contoh:\n",
        "\n",
        "print(calories_burned(30, \"lari\"))    # 300\n",
        "print(calories_burned(20, \"renang\"))  # 240"
      ],
      "metadata": {
        "id": "JbZkJTzpzxUP"
      }
    },
    {
      "cell_type": "code",
      "source": [
        "def calory_burned(durasi, latihan):\n",
        "  kalori = {\n",
        "      \"lari\" : 10,\n",
        "      \"sepeda\" : 8,\n",
        "      \"renang\" :12\n",
        "  }\n",
        "\n",
        "  total_kalori = durasi * kalori[latihan]\n",
        "  return total_kalori\n",
        "\n",
        "print(calory_burned(30,\"lari\"))\n",
        "print(calory_burned(20, \"renang\"))"
      ],
      "metadata": {
        "colab": {
          "base_uri": "https://localhost:8080/"
        },
        "id": "nShO6obaz0R5",
        "outputId": "7802078c-f3e5-4958-fe43-65f0982a7825"
      },
      "execution_count": 51,
      "outputs": [
        {
          "output_type": "stream",
          "name": "stdout",
          "text": [
            "300\n",
            "240\n"
          ]
        }
      ]
    },
    {
      "cell_type": "markdown",
      "source": [
        "Latihan 6 – Total Sesi Latihan\n",
        "\n",
        "Buat fungsi total_session_burned(*exercises, each_session_duration)\n",
        "\n",
        "Gunakan fungsi calories_burned dari Latihan 1\n",
        "\n",
        "*exercises = banyak jenis olahraga per sesi\n",
        "\n",
        "each_session_duration = durasi tiap sesi\n",
        "\n",
        "Contoh:\n",
        "\n",
        "print(total_session_burned(\"renang\",\"sepeda\", each_session_duration=10))  # 200\n",
        "print(total_session_burned(\"lari\",\"sepeda\",\"renang\", each_session_duration=5))  # 150"
      ],
      "metadata": {
        "id": "pceKuyIy0r1V"
      }
    },
    {
      "cell_type": "code",
      "source": [
        "def total_sesi(*latihan2,tiap_sesi):\n",
        "  total_all = 0\n",
        "  for latihan in latihan2:\n",
        "    total_all += calory_burned(tiap_sesi,latihan)\n",
        "  return total_all\n",
        "\n",
        "print(total_sesi(\"renang\",\"sepeda\",tiap_sesi=10))\n",
        "print(total_sesi(\"lari\",\"sepeda\",\"renang\",tiap_sesi=5))"
      ],
      "metadata": {
        "colab": {
          "base_uri": "https://localhost:8080/"
        },
        "id": "5xqjdYga0wli",
        "outputId": "d525d1f3-69c4-4716-adff-4965c61a56d8"
      },
      "execution_count": 53,
      "outputs": [
        {
          "output_type": "stream",
          "name": "stdout",
          "text": [
            "200\n",
            "150\n"
          ]
        }
      ]
    },
    {
      "cell_type": "markdown",
      "source": [
        "Latihan 7 – Minuman Energi\n",
        "\n",
        "Buat fungsi energy_burned(drink, jumlah)\n",
        "\n",
        "Minuman\tKalori per botol\n",
        "soda\t150\n",
        "jus\t100\n",
        "teh manis\t80\n",
        "\n",
        "Input: drink (string), jumlah (int)\n",
        "\n",
        "Output: total kalori dari minuman\n",
        "\n",
        "Contoh:\n",
        "\n",
        "print(energy_burned(\"soda\", 2))   # 300\n",
        "print(energy_burned(\"jus\", 3))    # 300"
      ],
      "metadata": {
        "id": "QkWpaaJG3xdH"
      }
    },
    {
      "cell_type": "code",
      "source": [
        "def energy_burned(drink, jumlah):\n",
        "  minuman = {\n",
        "      \"soda\" : 150,\n",
        "      \"jus\" : 100,\n",
        "      \"teh manis\" :80\n",
        "  }\n",
        "\n",
        "  total = jumlah * minuman[drink]\n",
        "  return total\n",
        "\n",
        "print(energy_burned(\"soda\",2))\n",
        "print(energy_burned(\"jus\",3))"
      ],
      "metadata": {
        "colab": {
          "base_uri": "https://localhost:8080/"
        },
        "id": "m4uS6aTY31KE",
        "outputId": "88c297a6-bedf-4ffe-ae89-cdf56843a061"
      },
      "execution_count": 57,
      "outputs": [
        {
          "output_type": "stream",
          "name": "stdout",
          "text": [
            "300\n",
            "300\n"
          ]
        }
      ]
    },
    {
      "cell_type": "markdown",
      "source": [
        "Latihan 8 – Total Energi Minuman\n",
        "\n",
        "Buat fungsi total_energy(*drinks, jumlah_per_drink)\n",
        "\n",
        "Gunakan fungsi energy_burned dari Latihan 1\n",
        "\n",
        "*drinks = beberapa jenis minuman\n",
        "\n",
        "jumlah_per_drink = jumlah botol tiap minuman\n",
        "\n",
        "Contoh:\n",
        "\n",
        "print(total_energy(\"soda\", \"jus\", jumlah_per_drink=2))   # 500\n",
        "print(total_energy(\"soda\", \"jus\", \"teh manis\", jumlah_per_drink=1))  # 330\n"
      ],
      "metadata": {
        "id": "sHgluXwa4mPD"
      }
    },
    {
      "cell_type": "code",
      "source": [
        "def total_energy(*drinks,jumlah_drink):\n",
        "  total_energy = 0\n",
        "  for drink in drinks:\n",
        "    total_energy += energy_burned(drink, jumlah_drink)\n",
        "  return total_energy\n",
        "\n",
        "print(total_energy(\"soda\", \"jus\", jumlah_drink=2))\n",
        "print(total_energy(\"soda\",\"jus\",\"teh manis\", jumlah_drink=1))"
      ],
      "metadata": {
        "colab": {
          "base_uri": "https://localhost:8080/"
        },
        "id": "vVkZYHaH4o-_",
        "outputId": "c38b899f-cdb1-4079-f36f-0bfa3fd0f220"
      },
      "execution_count": 61,
      "outputs": [
        {
          "output_type": "stream",
          "name": "stdout",
          "text": [
            "500\n",
            "330\n"
          ]
        }
      ]
    },
    {
      "cell_type": "markdown",
      "source": [
        "Latihan 9 – Catatan Peralatan\n",
        "\n",
        "Buat program dengan:\n",
        "\n",
        "List alat = []\n",
        "\n",
        "Fungsi input_alat() → input nama, harga, append ke list\n",
        "\n",
        "Fungsi tampil_alat() → print semua alat dengan nomor urut\n",
        "\n",
        "Menu:\n",
        "\n",
        "1. Input Alat\n",
        "2. Tampilkan Alat\n",
        "3. Keluar"
      ],
      "metadata": {
        "id": "U7tW4TE66Peq"
      }
    },
    {
      "cell_type": "code",
      "source": [
        "List_alat =[]\n",
        "\n",
        "def input_alat():\n",
        "  nama = input(\"Nama alat : \")\n",
        "  harga = input(\"Harga alat : \")\n",
        "  List_alat.append([nama,harga])\n",
        "  print(f\"{nama} berhasil ditambahkan\")\n",
        "\n",
        "def tampil_alat():\n",
        "  n = 1\n",
        "  for alat in List_alat:\n",
        "    nama,harga = alat\n",
        "    print(f\"{n}. {nama} dengan harga {harga}\")\n",
        "    n +=1\n",
        "  return\n",
        "\n",
        "while True:\n",
        "\n",
        "  print(\"Menu :\")\n",
        "  print(\"1. Input alat\")\n",
        "  print(\"2. Tampilkan alat\")\n",
        "  print(\"3. Keluar\")\n",
        "  user = input()\n",
        "\n",
        "  if user ==\"1\":\n",
        "    input_alat()\n",
        "  elif user ==\"2\":\n",
        "    tampil_alat()\n",
        "  elif user ==\"3\":\n",
        "    print(\"Exit\")\n",
        "    break\n",
        "  else :\n",
        "    print(\"pilih sesuai menu\")"
      ],
      "metadata": {
        "colab": {
          "base_uri": "https://localhost:8080/"
        },
        "id": "1_ECUxdD60_Q",
        "outputId": "681c1a50-471f-4bec-96b5-63c7ca27d8da"
      },
      "execution_count": 68,
      "outputs": [
        {
          "output_type": "stream",
          "name": "stdout",
          "text": [
            "Menu :\n",
            "1. Input alat\n",
            "2. Tampilkan alat\n",
            "3. Keluar\n",
            "1\n",
            "Nama alat : palu\n",
            "Harga alat : 200\n",
            "palu berhasil ditambahkan\n",
            "Menu :\n",
            "1. Input alat\n",
            "2. Tampilkan alat\n",
            "3. Keluar\n",
            "1\n",
            "Nama alat : paku\n",
            "Harga alat : 300\n",
            "paku berhasil ditambahkan\n",
            "Menu :\n",
            "1. Input alat\n",
            "2. Tampilkan alat\n",
            "3. Keluar\n",
            "2\n",
            "1. palu dengan harga 200\n",
            "2. paku dengan harga 300\n",
            "Menu :\n",
            "1. Input alat\n",
            "2. Tampilkan alat\n",
            "3. Keluar\n",
            "5\n",
            "pilih sesuai menu\n",
            "Menu :\n",
            "1. Input alat\n",
            "2. Tampilkan alat\n",
            "3. Keluar\n",
            "asdf\n",
            "pilih sesuai menu\n",
            "Menu :\n",
            "1. Input alat\n",
            "2. Tampilkan alat\n",
            "3. Keluar\n",
            "3\n",
            "Exit\n"
          ]
        }
      ]
    },
    {
      "cell_type": "markdown",
      "source": [
        "Latihan 10  \n",
        "Kompleks – Total Kalori Harian\n",
        "\n",
        "Buat program untuk menghitung total kalori terbakar + kalori makanan dalam sehari.\n",
        "\n",
        "1️⃣ Fungsi calories_burned(duration, exercise)\n",
        "\n",
        "Sama seperti sebelumnya: hitung kalori terbakar dari olahraga.\n",
        "\n",
        "Dictionary kalori_per_menit = {\"lari\":10, \"sepeda\":8, \"renang\":12}\n",
        "\n",
        "2️⃣ Fungsi calories_intake(food, portion)\n",
        "\n",
        "Hitung kalori dari makanan.\n",
        "\n",
        "Dictionary kalori_makanan = {\"nasi\":200, \"ayam\":250, \"sayur\":50, \"telur\":150}\n",
        "\n",
        "3️⃣ Fungsi daily_summary(*exercises, each_exercise_duration, **foods)\n",
        "\n",
        "Input:\n",
        "\n",
        "*exercises → beberapa jenis olahraga yang dilakukan\n",
        "\n",
        "each_exercise_duration → durasi tiap olahraga\n",
        "\n",
        "**foods → keyword args, misal nasi=2, ayam=1 → jumlah porsi makanan\n",
        "\n",
        "Output: print:\n",
        "\n",
        "Total kalori terbakar\n",
        "\n",
        "Total kalori dari makanan\n",
        "\n",
        "Selisih kalori (makanan – olahraga)\n",
        "\n",
        "Contoh penggunaan\n",
        "daily_summary(\n",
        "    \"lari\", \"renang\",\n",
        "    each_exercise_duration=30,\n",
        "    nasi=2, ayam=1, telur=2\n",
        ")\n",
        "\n",
        "\n",
        "Output:\n",
        "\n",
        "Kalori terbakar: 660\n",
        "Kalori masuk: 1050\n",
        "Selisih kalori: 390"
      ],
      "metadata": {
        "id": "86ZU1BHC94Lx"
      }
    },
    {
      "cell_type": "code",
      "source": [
        "def kalori_terbakar(durasi, latihan):\n",
        "  olahraga = {\n",
        "      \"lari\" :10,\n",
        "      \"sepeda\" :8,\n",
        "      \"renang\" : 12\n",
        "  }\n",
        "\n",
        "  return durasi * olahraga[latihan]\n",
        "\n",
        "def kalori_masuk(makan,porsi):\n",
        "  makanan = {\n",
        "      \"nasi\" : 200,\n",
        "      \"ayam\" : 250,\n",
        "      \"sayur\" :50,\n",
        "      \"telur\" :150\n",
        "  }\n",
        "\n",
        "  return porsi * makanan[makan]\n",
        "\n",
        "def kalori_harian(*latihan2, durasi_olahraga, **makan2):\n",
        "  total_bakar = 0\n",
        "  for latihan in latihan2:\n",
        "    total_bakar += kalori_terbakar(durasi_olahraga, latihan)\n",
        "\n",
        "\n",
        "  total_masuk = 0\n",
        "  for makan, porsi in makan2.items():\n",
        "    total_masuk += kalori_masuk(makan, porsi)\n",
        "\n",
        "  selisih_kalori = total_masuk - total_bakar\n",
        "\n",
        "\n",
        "  print(f\"Kalori terbakar : {total_bakar}\")\n",
        "  print(f\"Kalori masuk : {total_masuk}\")\n",
        "  print(f\"Selisih kalori : {selisih_kalori}\")\n",
        "\n",
        "kalori_harian(\"lari\", \"renang\", durasi_olahraga=30, nasi=2, ayam=1, telur=2)\n",
        "\n",
        "\n",
        "\n"
      ],
      "metadata": {
        "colab": {
          "base_uri": "https://localhost:8080/"
        },
        "id": "WIg1eLAZ-kFn",
        "outputId": "25528dee-2b67-43ef-dd6d-dace94a04711"
      },
      "execution_count": 81,
      "outputs": [
        {
          "output_type": "stream",
          "name": "stdout",
          "text": [
            "Kalori terbakar : 660\n",
            "Kalori masuk : 950\n",
            "Selisih kalori : 290\n"
          ]
        }
      ]
    }
  ]
}