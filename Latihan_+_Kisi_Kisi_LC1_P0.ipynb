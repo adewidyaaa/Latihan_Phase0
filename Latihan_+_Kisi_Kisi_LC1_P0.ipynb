{
  "nbformat": 4,
  "nbformat_minor": 0,
  "metadata": {
    "colab": {
      "provenance": [],
      "include_colab_link": true
    },
    "kernelspec": {
      "name": "python3",
      "display_name": "Python 3"
    },
    "language_info": {
      "name": "python"
    }
  },
  "cells": [
    {
      "cell_type": "markdown",
      "metadata": {
        "id": "view-in-github",
        "colab_type": "text"
      },
      "source": [
        "<a href=\"https://colab.research.google.com/github/adewidyaaa/Latihan_Phase0/blob/main/Latihan_%2B_Kisi_Kisi_LC1_P0.ipynb\" target=\"_parent\"><img src=\"https://colab.research.google.com/assets/colab-badge.svg\" alt=\"Open In Colab\"/></a>"
      ]
    },
    {
      "cell_type": "markdown",
      "source": [
        "#### 1. Buatlah fungsi untuk menghitung `jumlah kalori terbakar` berdasarkan `jenis kegiatan` dan `durasi dalam menit`, dengan ketentuan di bawah:\n",
        "\n",
        "<div align=\"center\">\n",
        "\n",
        "|Kegiatan|Kalori Terbakar per Menit|\n",
        "|--|--|\n",
        "|Berlari|10|\n",
        "|Bersepeda|8|\n",
        "|Berenang|12|\n",
        "\n",
        "\n",
        "</div>\n",
        "\n",
        "contoh:\n",
        "```\n",
        ">>> input: calories_burned(duration=60, exercise='berenang')\n",
        ">>> output: 720\n",
        "\n",
        ">>> input: calories_burned(duration=15, exercise='berlari')\n",
        ">>> output: 150\n",
        "\n",
        ">>> input:calories_burned(duration=20, exercise='bersepeda')\n",
        ">>> output: 160\n",
        "```"
      ],
      "metadata": {
        "id": "lCHIkZZHY7w9"
      }
    },
    {
      "cell_type": "code",
      "source": [
        "def calories_burned(duration,exercise):\n",
        "  kalori = {\n",
        "      \"berlari\" : 10,\n",
        "      \"bersepeda\" : 8,\n",
        "      \"berenang\" : 12\n",
        "  }\n",
        "\n",
        "  total_kalori = duration * kalori[exercise]\n",
        "  return total_kalori\n",
        "\n",
        "print(calories_burned(duration=60, exercise=\"berenang\"))\n",
        "print(calories_burned(duration=15, exercise=\"berlari\"))\n",
        "print(calories_burned(duration=20, exercise=\"bersepeda\"))"
      ],
      "metadata": {
        "id": "QGF23TpjAJkz",
        "colab": {
          "base_uri": "https://localhost:8080/"
        },
        "outputId": "e3a69364-3a25-4c02-d87c-49ec89eabfa0"
      },
      "execution_count": null,
      "outputs": [
        {
          "output_type": "stream",
          "name": "stdout",
          "text": [
            "720\n",
            "150\n",
            "160\n"
          ]
        }
      ]
    },
    {
      "cell_type": "markdown",
      "source": [
        "#### 2. Buat function untuk menghitung `total kalori terbakar` dari `beberapa sesi latihan`, manfaatkan fungsi yang telah dibuat sebelumnya di dalam function ini.\n",
        "\n",
        "Notes:\n",
        "- Dalam kasus ini diasumsikan setiap sesi latihan memiliki durasi yang sama (`each_session_duration`).\n",
        "- Function yang dibuat memiliki input argumen berupa: `n-length jenis latihan yang dilakukan di setiap sesinya` dan `each_session_duration`\n",
        "- Manfaatkan `*args` variable-length input untuk memasukkan jenis latihan.\n",
        "- Manfaatkan function yang telah dibuat sebelumnya untuk mengitung kalori terbakar di setiap sesi\n",
        "\n",
        "Contoh:\n",
        "```\n",
        ">>> input: total_session_burned_cal('berenang', 'bersepeda', each_session_duration=10)\n",
        ">>> output: 200\n",
        "\n",
        "penjelasan:\n",
        "kegiatan berenang dilakukan 10 menit dan kegiatan bersepeda dilakukan 10 menit dapat membakar total 200 kalori\n",
        "\n",
        ">>> input: total_session_burned_cal('berenang', 'berlari', 'bersepeda', each_session_duration=5)\n",
        ">>> output: 150\n",
        "\n",
        "penjelasan:\n",
        "kegiatan berenang, berlari dan bersepeda yang masing-masing dilakukan 5 menit dapat membakar 150 kalori.\n",
        "```"
      ],
      "metadata": {
        "id": "uVYOZdpMaRC6"
      }
    },
    {
      "cell_type": "code",
      "source": [
        "def calories_burned(duration,exercise):\n",
        "  kalori = {\n",
        "      \"berlari\" : 10,\n",
        "      \"bersepeda\" : 8,\n",
        "      \"berenang\" : 12\n",
        "  }\n",
        "\n",
        "  total_kalori = duration * kalori[exercise]\n",
        "  return total_kalori\n",
        "\n",
        "print(calories_burned(duration=60, exercise=\"berenang\"))\n",
        "print(calories_burned(duration=15, exercise=\"berlari\"))\n",
        "print(calories_burned(duration=20, exercise=\"bersepeda\"))\n",
        "\n",
        "def total_session_burned(*exercises,each_session_duration):\n",
        "\n",
        "  total = 0\n",
        "  for exercise in exercises:\n",
        "    total += calories_burned(each_session_duration, exercise)\n",
        "  return total\n",
        "\n",
        "print(total_session_burned(\"berenang\",\"bersepeda\", each_session_duration=10))\n",
        "print(total_session_burned(\"berenang\", \"berlari\", \"bersepeda\",each_session_duration =5, ))\n",
        "\n",
        "\n"
      ],
      "metadata": {
        "id": "QOPBg8JOAP0Y",
        "colab": {
          "base_uri": "https://localhost:8080/"
        },
        "outputId": "36adfc0f-63ee-4a93-e060-578b5b8a2f0a"
      },
      "execution_count": 6,
      "outputs": [
        {
          "output_type": "stream",
          "name": "stdout",
          "text": [
            "720\n",
            "150\n",
            "160\n",
            "200\n",
            "150\n"
          ]
        }
      ]
    },
    {
      "cell_type": "markdown",
      "source": [
        "Latihan 1 – Kalori Makanan\n",
        "\n",
        "Buat fungsi calories_intake(food, portion) yang menghitung total kalori dari makanan.\n",
        "Gunakan dictionary:\n",
        "\n",
        "makanan = {\n",
        "    \"nasi\": 200,\n",
        "    \"ayam\": 250,\n",
        "    \"sayur\": 50,\n",
        "    \"telur\": 150\n",
        "}\n",
        "\n",
        "\n",
        "Kalori dihitung: kalori_makanan * portion\n",
        "\n",
        "👉 Contoh:\n",
        "\n",
        "print(calories_intake(\"ayam\", 2))   # 500\n",
        "print(calories_intake(\"nasi\", 1))   # 200"
      ],
      "metadata": {
        "id": "X7Wpm1YzpqWf"
      }
    },
    {
      "cell_type": "code",
      "source": [
        "def calories_intake(food,portion):\n",
        "  makanan = {\n",
        "      \"nasi\" : 200,\n",
        "      \"ayam\" : 250,\n",
        "      \"sayur\" : 50,\n",
        "      \"telur\" : 150\n",
        "  }\n",
        "\n",
        "  hitung_kalori = makanan[food] * portion\n",
        "  return hitung_kalori\n",
        "\n",
        "print(calories_intake(\"ayam\",portion=2))\n",
        "print(calories_intake(\"nasi\",portion=1))"
      ],
      "metadata": {
        "colab": {
          "base_uri": "https://localhost:8080/"
        },
        "id": "w4Ctnp_1puMA",
        "outputId": "441bc823-3231-4ccb-8109-9f19adb90bf3"
      },
      "execution_count": 14,
      "outputs": [
        {
          "output_type": "stream",
          "name": "stdout",
          "text": [
            "500\n",
            "200\n"
          ]
        }
      ]
    },
    {
      "cell_type": "markdown",
      "source": [
        "Latihan 2 – Total Kalori Harian\n",
        "\n",
        "Buat fungsi total_calories(*foods, each_portion) yang menjumlahkan kalori dari banyak makanan.\n",
        "Fungsinya harus memanggil calories_intake dari Latihan 1.\n",
        "\n",
        "👉 Contoh:\n",
        "\n",
        "print(total_calories(\"nasi\",\"ayam\",\"sayur\", each_portion=1))  \n",
        "hasilnya 500 (200+250+50)"
      ],
      "metadata": {
        "id": "-meQHaRBrKHL"
      }
    },
    {
      "cell_type": "code",
      "source": [
        "def calories_intake(food,portion):\n",
        "  makanan = {\n",
        "      \"nasi\" : 200,\n",
        "      \"ayam\" : 250,\n",
        "      \"sayur\" : 50,\n",
        "      \"telur\" : 150\n",
        "  }\n",
        "\n",
        "  hitung_kalori = makanan[food] * portion\n",
        "  return hitung_kalori\n",
        "\n",
        "def total_calories(*foods, each_portion):\n",
        "    total = 0\n",
        "    for food in foods:\n",
        "      total += calories_intake(food, each_portion)\n",
        "    return total\n",
        "\n",
        "print(total_calories(\"nasi\",\"ayam\",\"sayur\", each_portion=1))\n"
      ],
      "metadata": {
        "colab": {
          "base_uri": "https://localhost:8080/"
        },
        "id": "zahsM2vlrQ-3",
        "outputId": "2f245c2f-76f6-4f06-bd28-b5b113b47991"
      },
      "execution_count": 24,
      "outputs": [
        {
          "output_type": "stream",
          "name": "stdout",
          "text": [
            "500\n"
          ]
        }
      ]
    }
  ]
}